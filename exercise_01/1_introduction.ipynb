{
 "cells": [
  {
   "cell_type": "markdown",
   "metadata": {
    "id": "nPladm1IEpv1"
   },
   "source": [
    "# Introduction to our Submission System\n",
    "\n",
    "In this exercise you will:\n",
    "\n",
    "- Optional: Learn how to set up Google Colab for our exercises\n",
    "- Learn how to work with IPython notebooks\n",
    "- Get a small numpy introduction\n",
    "- Learn about our submission system\n",
    "\n",
    "Execute a selected cell with `Shift + Enter`."
   ]
  },
  {
   "cell_type": "markdown",
   "metadata": {
    "id": "mzf8HfRVEpv5"
   },
   "source": [
    "# (Optional) Set up Google Colab\n",
    "\n",
    "If you lack resources CPU or GPU resources to finish an exercise, you can also use your google account to access [google colab](https://colab.research.google.com/) which provides an already set up python environment as well as free resources for training.\n",
    "\n",
    "In order to use google colab follow these steps:\n",
    "1. Access your [google drive](https://drive.google.com/) and upload your i2dl folder that contains the respective exercises/datasets etc. in the main directory:\n",
    "\n",
    "<img name=\"colab folder\" src=\"https://i2dl.vc.in.tum.de/static/images/exercise_01/colab_folder.png\">\n",
    "\n",
    "2. Open the exercise folder and select the notebook you want to open in google colab:\n",
    "\n",
    "<img name=\"colab start notebook\" src=\"https://i2dl.vc.in.tum.de/static/images/exercise_01/colab_start_notebook.png\">\n",
    "\n",
    "3. Uncomment (remove the two '\"\"\"'s) and execute the cell below to mount your gdrive folder. You have to allow google colab to access your folder in the pop up box and sign in to your account once more\n",
    "4. Done, the notebook is now ready to be used with google colab and you can start executing cells from the top of the notebook as desired:\n",
    "\n",
    "<img name=\"colab_done.png\" src=\"https://i2dl.vc.in.tum.de/static/images/exercise_01/colab_done.png\">"
   ]
  },
  {
   "cell_type": "markdown",
   "metadata": {
    "id": "NXd908UeEpv9"
   },
   "source": [
    "## (Optional) Mount folder in Colab\n",
    "\n",
    "Uncomment thefollowing cell to mount your gdrive if you are using the notebook in google colab:"
   ]
  },
  {
   "cell_type": "code",
   "execution_count": 1,
   "metadata": {
    "ExecuteTime": {
     "end_time": "2023-10-17T16:50:45.527187Z",
     "start_time": "2023-10-17T16:50:45.522294Z"
    },
    "colab": {
     "background_save": true
    },
    "id": "C2WXI4RFEpv_"
   },
   "outputs": [
    {
     "data": {
      "text/plain": [
       "\"\\nfrom google.colab import drive\\nimport os\\n\\ngdrive_path='/content/gdrive/MyDrive/i2dl/exercise_01'\\n\\n# This will mount your google drive under 'MyDrive'\\ndrive.mount('/content/gdrive', force_remount=True)\\n# In order to access the files in this notebook we have to navigate to the correct folder\\nos.chdir(gdrive_path)\\n# Check manually if all files are present\\nprint(sorted(os.listdir()))\\n\""
      ]
     },
     "execution_count": 1,
     "metadata": {},
     "output_type": "execute_result"
    }
   ],
   "source": [
    "\n",
    "\"\"\"\n",
    "from google.colab import drive\n",
    "import os\n",
    "\n",
    "gdrive_path='/content/gdrive/MyDrive/i2dl/exercise_01'\n",
    "\n",
    "# This will mount your google drive under 'MyDrive'\n",
    "drive.mount('/content/gdrive', force_remount=True)\n",
    "# In order to access the files in this notebook we have to navigate to the correct folder\n",
    "os.chdir(gdrive_path)\n",
    "# Check manually if all files are present\n",
    "print(sorted(os.listdir()))\n",
    "\"\"\""
   ]
  },
  {
   "cell_type": "markdown",
   "metadata": {
    "id": "nlSliH84EpwD"
   },
   "source": [
    "## 1. IPython Notebooks\n",
    "An IPython notebook is made up of a number of cells. Each cell can contain Python code. You can execute a cell by clicking on it and pressing `Shift-Enter`. When you do so, the code in the cell will be executed, and the output of the cell will be displayed beneath the cell. For example, after running the first cell the notebook looks like this:"
   ]
  },
  {
   "cell_type": "code",
   "execution_count": null,
   "metadata": {
    "ExecuteTime": {
     "end_time": "2023-10-17T16:50:46.376112Z",
     "start_time": "2023-10-17T16:50:46.364948Z"
    },
    "id": "smccfEV6EpwF"
   },
   "outputs": [],
   "source": [
    "x = 5\n",
    "print(x+3)"
   ]
  },
  {
   "cell_type": "markdown",
   "metadata": {
    "id": "xjqLn-F3EpwH"
   },
   "source": [
    "Global variables are shared between cells. Therefore, we can access `x` in the next cell."
   ]
  },
  {
   "cell_type": "code",
   "execution_count": null,
   "metadata": {
    "ExecuteTime": {
     "end_time": "2023-10-17T16:50:47.510130Z",
     "start_time": "2023-10-17T16:50:47.501198Z"
    },
    "id": "gUETUuHCEpwI"
   },
   "outputs": [],
   "source": [
    "print(x+10)"
   ]
  },
  {
   "cell_type": "markdown",
   "metadata": {
    "id": "86tWvhsyEpwL"
   },
   "source": [
    "By convention, IPython notebooks are expected to be run from top to bottom. Failing to execute some cells or executing cells out of order can result in errors:"
   ]
  },
  {
   "cell_type": "code",
   "execution_count": null,
   "metadata": {
    "ExecuteTime": {
     "end_time": "2023-10-17T16:50:54.510319Z",
     "start_time": "2023-10-17T16:50:54.505912Z"
    },
    "id": "l48183LXEpwM"
   },
   "outputs": [],
   "source": [
    "# This does not work\n",
    "print(x+y)"
   ]
  },
  {
   "cell_type": "code",
   "execution_count": null,
   "metadata": {
    "ExecuteTime": {
     "end_time": "2023-10-17T16:50:54.894196Z",
     "start_time": "2023-10-17T16:50:54.890503Z"
    },
    "id": "IB2NHUriEpwP"
   },
   "outputs": [],
   "source": [
    "# After executing this cell, you can re-evaluate the cell above\n",
    "y = 3"
   ]
  },
  {
   "cell_type": "markdown",
   "metadata": {
    "id": "95SY-hprEpwR"
   },
   "source": [
    "You can edit cells by double clicking them (the color on the left changes from blue to green) and change the text (not really useful) or code (will be useful)."
   ]
  },
  {
   "cell_type": "code",
   "execution_count": null,
   "metadata": {
    "ExecuteTime": {
     "end_time": "2023-10-17T16:50:55.445050Z",
     "start_time": "2023-10-17T16:50:55.436843Z"
    },
    "id": "lkFJixWAEpwR"
   },
   "outputs": [],
   "source": [
    "print('I have not changed the cell')"
   ]
  },
  {
   "cell_type": "markdown",
   "metadata": {
    "id": "2OiMRpEREpwS"
   },
   "source": [
    "Please make sure that you are using the correct python environment. You can print out the environment path with the following cell. If you use python2 to work on the exercises and submit your model, you will encounter errors."
   ]
  },
  {
   "cell_type": "code",
   "execution_count": null,
   "metadata": {
    "ExecuteTime": {
     "end_time": "2023-10-17T16:50:55.881115Z",
     "start_time": "2023-10-17T16:50:55.874752Z"
    },
    "id": "omkYia2qEpwT"
   },
   "outputs": [],
   "source": [
    "import sys\n",
    "print(sys.version)\n",
    "if sys.version_info <= (3, 10):\n",
    "    print(\"you are using an older version of python. We expect python 3.10.x \\nYou can continue with your version but it might cause some issues\")"
   ]
  },
  {
   "cell_type": "markdown",
   "metadata": {
    "id": "R__ssLWuEpwT"
   },
   "source": [
    "After you have modified an IPython notebook for one of the assignments by modifying or executing some of its cells, remember to __save your changes__!"
   ]
  },
  {
   "cell_type": "markdown",
   "metadata": {
    "id": "ut4PrUn9EpwU"
   },
   "source": [
    "\n",
    "## 2. Imports\n",
    "\n",
    "We start every notebook with a cell containg the important imports. So the first cell of every notebook is the import cell, as this needs to be executed before running any code.\n"
   ]
  },
  {
   "cell_type": "code",
   "execution_count": 14,
   "metadata": {
    "ExecuteTime": {
     "end_time": "2023-10-17T16:50:57.597581Z",
     "start_time": "2023-10-17T16:50:57.163963Z"
    },
    "id": "GaVCCEPuEpwW"
   },
   "outputs": [
    {
     "name": "stdout",
     "output_type": "stream",
     "text": [
      "The autoreload extension is already loaded. To reload it, use:\n",
      "  %reload_ext autoreload\n"
     ]
    }
   ],
   "source": [
    "import time\n",
    "import os\n",
    "import random\n",
    "import math\n",
    "import numpy as np\n",
    "import matplotlib.pyplot as plt\n",
    "import numpy as np\n",
    "from PIL import Image\n",
    "%matplotlib inline\n",
    "plt.rcParams['figure.figsize'] = (7.0, 5.0) # set default size of plots\n",
    "plt.rcParams['image.interpolation'] = 'nearest'\n",
    "plt.rcParams['image.cmap'] = 'gray'\n",
    "\n",
    "# for auto-reloading extenrnal modules\n",
    "# see http://stackoverflow.com/questions/1907993/autoreload-of-modules-in-ipython\n",
    "%load_ext autoreload\n",
    "%autoreload 2"
   ]
  },
  {
   "cell_type": "markdown",
   "metadata": {
    "id": "ZfVXCmNfEpwX"
   },
   "source": [
    "# 3. Numpy Introduction\n",
    "\n",
    "Numpy is a high performance framework for operations on multi dimensional arrays. It would be a nice tool in your kitty for working on later exercises and your life as a Data Scientist in general. "
   ]
  },
  {
   "cell_type": "code",
   "execution_count": 15,
   "metadata": {
    "ExecuteTime": {
     "end_time": "2023-10-17T16:50:57.598524Z",
     "start_time": "2023-10-17T16:50:57.584387Z"
    },
    "id": "nCjj4l1qEpwY"
   },
   "outputs": [
    {
     "name": "stdout",
     "output_type": "stream",
     "text": [
      "int64\n",
      "(2, 3)\n"
     ]
    }
   ],
   "source": [
    "# Create a simple (2, 3) numpy array\n",
    "# [[ 1  2  3]\n",
    "#  [ 4  5  6]]\n",
    "a = np.array([[1,2,3], [4,5,6]])\n",
    "\n",
    "# Print the data type of this array\n",
    "print(a.dtype)\n",
    "\n",
    "# print the shape of this array\n",
    "print(a.shape)"
   ]
  },
  {
   "cell_type": "code",
   "execution_count": 16,
   "metadata": {
    "ExecuteTime": {
     "end_time": "2023-10-17T16:50:57.893380Z",
     "start_time": "2023-10-17T16:50:57.879384Z"
    },
    "id": "V4G6O9aYEpwZ"
   },
   "outputs": [
    {
     "name": "stdout",
     "output_type": "stream",
     "text": [
      "[[1 2]\n",
      " [4 5]]\n",
      "(2, 2)\n"
     ]
    }
   ],
   "source": [
    "# Slicing operation \n",
    "# Let us take the first two columns from the original array and save it in a new one\n",
    "b = a[:, :2]\n",
    "print(b)\n",
    "print(b.shape)"
   ]
  },
  {
   "cell_type": "code",
   "execution_count": 17,
   "metadata": {
    "ExecuteTime": {
     "end_time": "2023-10-17T16:50:58.289205Z",
     "start_time": "2023-10-17T16:50:58.277671Z"
    },
    "id": "6KTW1pfuEpwZ"
   },
   "outputs": [
    {
     "data": {
      "text/plain": [
       "array([2, 3, 4, 5, 6])"
      ]
     },
     "execution_count": 17,
     "metadata": {},
     "output_type": "execute_result"
    }
   ],
   "source": [
    "# Select elements which satisfy a condition\n",
    "# Using numpy array makes such a selection trivial\n",
    "mask = a > 1\n",
    "new_array = a[mask]\n",
    "new_array"
   ]
  },
  {
   "cell_type": "code",
   "execution_count": 18,
   "metadata": {
    "ExecuteTime": {
     "end_time": "2023-10-17T16:50:58.799625Z",
     "start_time": "2023-10-17T16:50:58.756172Z"
    },
    "id": "grjVN3Q7Epwa"
   },
   "outputs": [],
   "source": [
    "# Do the same thing in a single step\n",
    "c = a[a>1]\n",
    "assert np.all(new_array == c) #  np.all() to indicate that all the values need to match"
   ]
  },
  {
   "cell_type": "code",
   "execution_count": 19,
   "metadata": {
    "ExecuteTime": {
     "end_time": "2023-10-17T16:50:58.984594Z",
     "start_time": "2023-10-17T16:50:58.972723Z"
    },
    "id": "PzXQPTY4Epwb"
   },
   "outputs": [
    {
     "name": "stdout",
     "output_type": "stream",
     "text": [
      "[[ 6  8]\n",
      " [10 12]]\n",
      "[[ 6  8]\n",
      " [10 12]]\n",
      "[[-4 -4]\n",
      " [-4 -4]]\n",
      "[[-4 -4]\n",
      " [-4 -4]]\n",
      "[[ 5 12]\n",
      " [21 32]]\n",
      "[[ 5 12]\n",
      " [21 32]]\n",
      "[[0.2        0.33333333]\n",
      " [0.42857143 0.5       ]]\n",
      "[[0.2        0.33333333]\n",
      " [0.42857143 0.5       ]]\n"
     ]
    }
   ],
   "source": [
    "# Mathematical operations\n",
    "x = np.array([[1,2],[3,4]])\n",
    "y = np.array([[5,6],[7,8]])\n",
    "\n",
    "# Elementwise sum; both produce the array\n",
    "# [[ 6.0  8.0]\n",
    "#  [10.0 12.0]]\n",
    "print(x + y)\n",
    "print(np.add(x, y))\n",
    "\n",
    "# Elementwise difference; both produce the array\n",
    "# [[-4.0 -4.0]\n",
    "#  [-4.0 -4.0]]\n",
    "print(x - y)\n",
    "print(np.subtract(x, y))\n",
    "\n",
    "# Elementwise product; both produce the array\n",
    "# [[ 5.0 12.0]\n",
    "#  [21.0 32.0]]\n",
    "print(x * y)\n",
    "print(np.multiply(x, y))\n",
    "\n",
    "# Elementwise division; both produce the array\n",
    "# [[ 0.2         0.33333333]\n",
    "#  [ 0.42857143  0.5       ]]\n",
    "print(x / y)\n",
    "print(np.divide(x, y))"
   ]
  },
  {
   "cell_type": "code",
   "execution_count": 20,
   "metadata": {
    "ExecuteTime": {
     "end_time": "2023-10-17T16:50:59.299994Z",
     "start_time": "2023-10-17T16:50:59.285962Z"
    },
    "id": "dfHfAHpcEpwd"
   },
   "outputs": [
    {
     "name": "stdout",
     "output_type": "stream",
     "text": [
      "[[1.         1.41421356]\n",
      " [1.73205081 2.        ]]\n",
      "[[ 2.71828183  7.3890561 ]\n",
      " [20.08553692 54.59815003]]\n"
     ]
    }
   ],
   "source": [
    "# Element wise operations\n",
    "# Elementwise square root; produces the array\n",
    "# [[ 1.          1.41421356]\n",
    "#  [ 1.73205081  2.        ]]\n",
    "print(np.sqrt(x))\n",
    "\n",
    "# Element wise exponential operation\n",
    "#[[ 2.71828183  7.3890561 ]\n",
    "#  [20.08553692 54.59815003]] \n",
    "print(np.exp(x))"
   ]
  },
  {
   "cell_type": "markdown",
   "metadata": {
    "id": "UKvibAo8Epwd"
   },
   "source": [
    "A detailed summary of numpy is beyond the scope of this assignment. Please take a look at http://docs.scipy.org/doc/numpy/reference/ for further reference. For this exercise, the tasks we have covered should be enough."
   ]
  },
  {
   "cell_type": "markdown",
   "metadata": {
    "id": "OU8KUJ8LEpwe"
   },
   "source": [
    "## 4. Notebook convenience\n",
    "One of the convenient things about jupyter notebooks is the ability to display images, instructions and guide your thought process. You will not have any new clanky windows opening up and everything shall be inline."
   ]
  },
  {
   "cell_type": "code",
   "execution_count": 21,
   "metadata": {
    "ExecuteTime": {
     "end_time": "2023-10-17T16:51:00.466636Z",
     "start_time": "2023-10-17T16:51:00.386823Z"
    },
    "id": "na0SDFMfEpwf"
   },
   "outputs": [
    {
     "data": {
      "text/plain": [
       "<matplotlib.image.AxesImage at 0x7fbc2ff2db10>"
      ]
     },
     "execution_count": 21,
     "metadata": {},
     "output_type": "execute_result"
    },
    {
     "data": {
      "image/png": "[encoded data removed]",
      "text/plain": [
       "<Figure size 700x500 with 1 Axes>"
      ]
     },
     "metadata": {},
     "output_type": "display_data"
    }
   ],
   "source": [
    "# Load the image first\n",
    "image = Image.open('images/sample_image.jpg')\n",
    "plt.imshow(image)"
   ]
  },
  {
   "cell_type": "markdown",
   "metadata": {
    "id": "hdILif0vEpwg"
   },
   "source": [
    "<div class=\"alert alert-info\">\n",
    "    <h3>Inline Question</h3>\n",
    "    <p>Sometimes we ask inline questions. They should help you to think about the subject that are relevant for the exam.</p>\n",
    "    <p>**Your answer:** You can write your answer here to save it in the ipython notebook so you can review it before the exam. Double click a cell to edit it and enter your answer.</p>\n",
    "</div>"
   ]
  },
  {
   "cell_type": "markdown",
   "metadata": {
    "id": "n-O6AE2CEpwg"
   },
   "source": [
    "## 5. External Files\n",
    "Most of your work will involve implementing certain functions in external python files. You can either open external files here in jupter notebook or edit them with your favourite text or python editor.\n",
    "\n",
    "All files you will have to edit are contained in the `exercise_code` folder. Check out the `Dummy` class in `exercise_code/networks/dummy.py`."
   ]
  },
  {
   "cell_type": "code",
   "execution_count": 22,
   "metadata": {
    "ExecuteTime": {
     "end_time": "2023-10-17T16:51:01.988961Z",
     "start_time": "2023-10-17T16:51:01.976462Z"
    },
    "id": "dBQpdEQaEpwh"
   },
   "outputs": [],
   "source": [
    "from exercise_code.networks.dummy import Dummy\n",
    "# Instantiate a \"model\"\n",
    "model = Dummy()"
   ]
  },
  {
   "cell_type": "markdown",
   "metadata": {
    "id": "2137aNDSEpwi"
   },
   "source": [
    "## 6. Dummy Machine\n",
    "\n",
    "Usually, we ask you to train and submit models. You don't need to train anything fancy in this exercise, this is just a sample code to familarize you with the file structure and your future tasks.\n",
    "\n",
    "You need to make some changes to the `forward()` method in `exercise_01/exercise_code/networks/dummy.py`and set `x` to any integer that is larger than 59. We highlight all locations where you should modify the code with boxes in the respective files.\n",
    "\n",
    "<div class=\"alert alert-danger\">\n",
    "    <h3>Warning: Don't modify code outside your assigned boxes</h3>\n",
    "    <p>Make sure that you don't mutate, rename or remove classes or functions outside the respective assigned boxes!</p><p> You can add new functions if you so desire and feel the need of having them structured outside of our respective boxes but besides later exercises these shouldn't be required.</p>\n",
    "</div>"
   ]
  },
  {
   "cell_type": "markdown",
   "metadata": {
    "id": "NZPWZrngEpwj"
   },
   "source": [
    "In this submission you get a score depending upon the number of test cases you pass. Usually, the total points you can secure is between __0 - 100__. For this exercise, you have __one test cases__ which depends on the output of the `forward()` function. You can check the `exercise_01/exercise_code/tests` folder to have a general feel about the unit tests. Please remember that these test cases are just a sample and the submission server has a set of different test cases. "
   ]
  },
  {
   "cell_type": "code",
   "execution_count": 23,
   "metadata": {
    "ExecuteTime": {
     "end_time": "2023-10-17T16:51:03.234275Z",
     "start_time": "2023-10-17T16:51:03.220741Z"
    },
    "id": "_up1eg1yEpwl"
   },
   "outputs": [
    {
     "name": "stdout",
     "output_type": "stream",
     "text": [
      "DummyTest passed.\n",
      "The score of your dummy machine is: 9000\n"
     ]
    }
   ],
   "source": [
    "from exercise_code.tests.dummy_tests import DummyTest\n",
    "\n",
    "test_cases = DummyTest(model)\n",
    "test_cases()"
   ]
  },
  {
   "cell_type": "markdown",
   "metadata": {
    "id": "ifoE9kTzEpwm"
   },
   "source": [
    "## 7. Model Saving\n",
    "Now you need to save the model. We provide you with all the functionality, so you will only need to execute the next cell."
   ]
  },
  {
   "cell_type": "code",
   "execution_count": 24,
   "metadata": {
    "ExecuteTime": {
     "end_time": "2023-10-17T16:51:04.156593Z",
     "start_time": "2023-10-17T16:51:04.137830Z"
    },
    "id": "0r7lG5B-Epwn"
   },
   "outputs": [],
   "source": [
    "model.save_model()"
   ]
  },
  {
   "cell_type": "markdown",
   "metadata": {
    "id": "eqXeuQwoEpwo"
   },
   "source": [
    "<div class=\"alert alert-danger\">\n",
    "    <h3>Warning</h3>\n",
    "    <p>You might get an error like this:</p>\n",
    "    <p>PicklingError: Can't pickle `<class 'exercise_code.test_model.TestModel'>`: it's not the same object as exercise_code.test_class.TestSubmission</p>\n",
    "    <p>The reason is that we are using autoreload and working on this class during the notebook session. If you get this error simply restart the kernel and rerun the whole script (Kernel -> Restart & Run All) or only the important cells for generating your model.</p>\n",
    "</div>"
   ]
  },
  {
   "cell_type": "markdown",
   "metadata": {
    "id": "rcR5AVqYEpwo"
   },
   "source": [
    "## 8. Zip File Creation\n",
    "Run the following cell to create the zip file for submission, which contains all the exercise code, models, and ipynb notebooks."
   ]
  },
  {
   "cell_type": "code",
   "execution_count": 25,
   "metadata": {
    "ExecuteTime": {
     "end_time": "2023-10-17T16:51:05.248370Z",
     "start_time": "2023-10-17T16:51:05.234916Z"
    },
    "id": "zGB3m_uFEpwp"
   },
   "outputs": [
    {
     "name": "stdout",
     "output_type": "stream",
     "text": [
      "relevant folders: ['exercise_code', 'models']\n",
      "notebooks files: ['1_introduction.ipynb']\n",
      "Adding folder exercise_code\n",
      "Adding folder models\n",
      "Adding notebook 1_introduction.ipynb\n",
      "Zipping successful! Zip is stored under: /home/ali/tum/i2dl/exercise/i2dl/Output/Exercise_01.zip\n"
     ]
    }
   ],
   "source": [
    "from exercise_code.submit import submit_exercise\n",
    "\n",
    "submit_exercise('../Output/Exercise_01')"
   ]
  },
  {
   "cell_type": "markdown",
   "metadata": {
    "id": "Ejvmg5AgEpwq"
   },
   "source": [
    "# Submission Goals\n",
    "\n",
    "- Goal: implement dummy machine \n",
    "- Threshold to this exercise: 60\n",
    "- You can make multiple submission until the deadline. Your __best submission__ will be shown on the website. This submission will not count towards the bonus."
   ]
  },
  {
   "cell_type": "markdown",
   "metadata": {
    "id": "LuJugKQdEpwr"
   },
   "source": [
    "# Submission Instructions\n",
    "\n",
    "Now, that you have completed the necessary parts in the notebook, you can go on and submit your files.\n",
    "\n",
    "1. Go on [our submission page](https://i2dl.vc.in.tum.de/), register for an account and login. We use your matriculation number and send an email with the login details to the mail account associated. When in doubt, login into tum-online and check your mails there. You will get an id which we need in the next step. If you are an external student, please contact us directly via the mailing list so that we can issue you a personal account since the automatic registration uses the TUM native matriculation numbers for registration.\n",
    "2. Log into [our submission page](https://i2dl.vc.in.tum.de/) with your account details and upload the zip file.\n",
    "3. Your submission will be evaluated by our system and you will get feedback about the current progress and performance of it. You will get an email with your score as well as a message if you have surpassed the threshold.\n",
    "4. Within the working period, you can submit as many solutions as you want to get the best possible score. Once the submission closes up, you can no longer submit any newer models for graded evaluation."
   ]
  },
  {
   "cell_type": "markdown",
   "metadata": {
    "id": "7lEOCN0JEpws"
   },
   "source": [
    "<img name=\"i2dlsubmission.png\" src=\"https://i2dl.vc.in.tum.de/static/images/exercise_01/i2dlsubmission.png\">"
   ]
  },
  {
   "cell_type": "markdown",
   "metadata": {
    "id": "ueBYT_MYEpwt"
   },
   "source": [
    "## References\n",
    "Congratulations!! You have finished the introductory notebook.\n",
    "Some references to learn how to use basic python libraries (Numpy, Scipy and Matplotlib) that you would need for this course:\n",
    "\n",
    "[1] https://docs.python.org/3/tutorial/\n",
    "\n",
    "[2] http://cs231n.github.io/python-numpy-tutorial/"
   ]
  }
 ],
 "metadata": {
  "colab": {
   "provenance": []
  },
  "kernelspec": {
   "display_name": "Python 3",
   "language": "python",
   "name": "python3"
  },
  "language_info": {
   "codemirror_mode": {
    "name": "ipython",
    "version": 3
   },
   "file_extension": ".py",
   "mimetype": "text/x-python",
   "name": "python",
   "nbconvert_exporter": "python",
   "pygments_lexer": "ipython3",
   "version": "3.11.9"
  },
  "vscode": {
   "interpreter": {
    "hash": "aee8b7b246df8f9039afb4144a1f6fd8d2ca17a180786b69acc140d282b71a49"
   }
  }
 },
 "nbformat": 4,
 "nbformat_minor": 0
}
